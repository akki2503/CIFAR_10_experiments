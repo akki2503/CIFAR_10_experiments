{
  "nbformat": 4,
  "nbformat_minor": 0,
  "metadata": {
    "kernelspec": {
      "display_name": "Python 3",
      "language": "python",
      "name": "python3"
    },
    "language_info": {
      "codemirror_mode": {
        "name": "ipython",
        "version": 3
      },
      "file_extension": ".py",
      "mimetype": "text/x-python",
      "name": "python",
      "nbconvert_exporter": "python",
      "pygments_lexer": "ipython3",
      "version": "3.7.1"
    },
    "colab": {
      "name": "softmax.ipynb",
      "provenance": [],
      "collapsed_sections": [],
      "toc_visible": true
    }
  },
  "cells": [
    {
      "cell_type": "markdown",
      "metadata": {
        "id": "-xhy5TfyZ-fo",
        "colab_type": "text"
      },
      "source": [
        "This python notebook is an implementation of Softmax Based Linear classifier on CIFAR_10 dataset.\n"
      ]
    },
    {
      "cell_type": "code",
      "metadata": {
        "tags": [
          "pdf-ignore"
        ],
        "colab_type": "code",
        "outputId": "ec41ee6c-f78e-4f11-da31-4a5d521f3ac8",
        "id": "V2eCCoMjv-NX",
        "colab": {
          "base_uri": "https://localhost:8080/",
          "height": 96
        }
      },
      "source": [
        "import random\n",
        "import numpy as np\n",
        "from keras.datasets import cifar10\n",
        "import matplotlib.pyplot as plt\n",
        "\n",
        "%matplotlib inline\n",
        "plt.rcParams['figure.figsize'] = (10.0, 8.0) # set default size of plots\n",
        "plt.rcParams['image.interpolation'] = 'nearest'\n",
        "plt.rcParams['image.cmap'] = 'gray'\n",
        "\n",
        "%load_ext autoreload\n",
        "%autoreload 2"
      ],
      "execution_count": 0,
      "outputs": [
        {
          "output_type": "stream",
          "text": [
            "Using TensorFlow backend.\n"
          ],
          "name": "stderr"
        },
        {
          "output_type": "display_data",
          "data": {
            "text/html": [
              "<p style=\"color: red;\">\n",
              "The default version of TensorFlow in Colab will soon switch to TensorFlow 2.x.<br>\n",
              "We recommend you <a href=\"https://www.tensorflow.org/guide/migrate\" target=\"_blank\">upgrade</a> now \n",
              "or ensure your notebook will continue to use TensorFlow 1.x via the <code>%tensorflow_version 1.x</code> magic:\n",
              "<a href=\"https://colab.research.google.com/notebooks/tensorflow_version.ipynb\" target=\"_blank\">more info</a>.</p>\n"
            ],
            "text/plain": [
              "<IPython.core.display.HTML object>"
            ]
          },
          "metadata": {
            "tags": []
          }
        }
      ]
    },
    {
      "cell_type": "markdown",
      "metadata": {
        "id": "ZXlCtqmybttZ",
        "colab_type": "text"
      },
      "source": [
        "#Data Preprocessing\n",
        "This block downlaods the CIFAR_10 data from the source and divides it into test, train and development data. "
      ]
    },
    {
      "cell_type": "code",
      "metadata": {
        "tags": [
          "pdf-ignore"
        ],
        "colab_type": "code",
        "outputId": "e703db6b-30ed-4b0d-cb4a-cc51ddcf0dfa",
        "id": "TVc5rcnqv9x1",
        "colab": {
          "base_uri": "https://localhost:8080/",
          "height": 151
        }
      },
      "source": [
        "def get_CIFAR10_data(num_training=49000, num_validation=1000, num_test=1000, num_dev=500):\n",
        "    \"\"\"\n",
        "    Load the CIFAR-10 dataset and perform preprocessing to prepare\n",
        "    it for the linear classifier. \n",
        "    \"\"\" \n",
        "    # Cleaning up variables to prevent loading data multiple times (which may cause memory issue)\n",
        "    try:\n",
        "       del X_train, y_train\n",
        "       del X_test, y_test\n",
        "       print('Clear previously loaded data.')\n",
        "    except:\n",
        "       pass\n",
        "\n",
        "    (X_train, y_train), (X_test, y_test) = cifar10.load_data()\n",
        "    \n",
        "    # subsample the data\n",
        "    mask = list(range(num_training, num_training + num_validation))\n",
        "    X_val = X_train[mask]\n",
        "    y_val = y_train[mask]\n",
        "    mask = list(range(num_training))\n",
        "    X_train = X_train[mask]\n",
        "    y_train = y_train[mask]\n",
        "    mask = list(range(num_test))\n",
        "    X_test = X_test[mask]\n",
        "    y_test = y_test[mask]\n",
        "    mask = np.random.choice(num_training, num_dev, replace=False)\n",
        "    X_dev = X_train[mask]\n",
        "    y_dev = y_train[mask]\n",
        "    \n",
        "    # Preprocessing: reshape the image data into rows\n",
        "    X_train = np.reshape(X_train, (X_train.shape[0], -1))\n",
        "    X_val = np.reshape(X_val, (X_val.shape[0], -1))\n",
        "    X_test = np.reshape(X_test, (X_test.shape[0], -1))\n",
        "    X_dev = np.reshape(X_dev, (X_dev.shape[0], -1))\n",
        "    \n",
        "    # Normalize the data: subtract the mean image\n",
        "    mean_image = np.mean(X_train, axis = 0)\n",
        "    X_train = X_train -  mean_image\n",
        "    X_val = X_val -  mean_image\n",
        "    X_test = X_test -  mean_image\n",
        "    X_dev = X_dev -  mean_image\n",
        "    \n",
        "    # add bias dimension and transform into columns\n",
        "    X_train = np.hstack([X_train, np.ones((X_train.shape[0], 1))])\n",
        "    X_val = np.hstack([X_val, np.ones((X_val.shape[0], 1))])\n",
        "    X_test = np.hstack([X_test, np.ones((X_test.shape[0], 1))])\n",
        "    X_dev = np.hstack([X_dev, np.ones((X_dev.shape[0], 1))])\n",
        "    \n",
        "    return X_train.T, y_train.T, X_val.T, y_val.T, X_test.T, y_test.T, X_dev.T, y_dev.T\n",
        "\n",
        "\n",
        "# Invoke the above function to get our data.\n",
        "X_train, y_train, X_val, y_val, X_test, y_test, X_dev, y_dev = get_CIFAR10_data()\n",
        "print('Train data shape: ', X_train.shape)\n",
        "print('Train labels shape: ', y_train.shape)\n",
        "print('Validation data shape: ', X_val.shape)\n",
        "print('Validation labels shape: ', y_val.shape)\n",
        "print('Test data shape: ', X_test.shape)\n",
        "print('Test labels shape: ', y_test.shape)\n",
        "print('dev data shape: ', X_dev.shape)\n",
        "print('dev labels shape: ', y_dev.shape)"
      ],
      "execution_count": 0,
      "outputs": [
        {
          "output_type": "stream",
          "text": [
            "Train data shape:  (3073, 49000)\n",
            "Train labels shape:  (1, 49000)\n",
            "Validation data shape:  (3073, 1000)\n",
            "Validation labels shape:  (1, 1000)\n",
            "Test data shape:  (3073, 1000)\n",
            "Test labels shape:  (1, 1000)\n",
            "dev data shape:  (3073, 500)\n",
            "dev labels shape:  (1, 500)\n"
          ],
          "name": "stdout"
        }
      ]
    },
    {
      "cell_type": "markdown",
      "metadata": {
        "colab_type": "text",
        "id": "c6E9st2Jv9hv"
      },
      "source": [
        "# Softmax Loss\n",
        "\n"
      ]
    },
    {
      "cell_type": "code",
      "metadata": {
        "id": "V-og3oIVxIjM",
        "colab_type": "code",
        "colab": {}
      },
      "source": [
        "def loss_grad_softmax_vectorized(W, X, y, reg):\n",
        "    \"\"\" Compute the loss and gradients using softmax with vectorized version\"\"\"\n",
        "    # Initialize parameters\n",
        "    loss = 0 \n",
        "    grad = np.zeros_like(W)\n",
        "    dim, num_train = X.shape\n",
        "\n",
        "    # Find the cost/ forward propagation step\n",
        "    scores = W.dot(X) # [K, N]\n",
        "\n",
        "    # Find loss\n",
        "    scores -= np.max(scores)  #shift the scores so that maximum score is 0 to avoid explosion\n",
        "    scores_exp = np.exp(scores)  \n",
        "    correct_scores_exp = scores_exp[y, range(num_train)] # [N, ], \n",
        "    scores_exp_sum = np.sum(scores_exp, axis=0) # [N, ]\n",
        "    loss = -np.sum(np.log(correct_scores_exp / scores_exp_sum))\n",
        "    loss /= num_train\n",
        "    loss += 0.5 * reg * np.sum(W * W)\n",
        "\n",
        "    #Calculate gradient\n",
        "    scores_exp_normalized = scores_exp / scores_exp_sum \n",
        "    scores_exp_normalized[y, range(num_train)] -= 1 # [K, N], deal with the correct class\n",
        "    grad = scores_exp_normalized.dot(X.T) \n",
        "    grad /= num_train\n",
        "    grad += reg * W\n",
        "\n",
        "    return loss, grad"
      ],
      "execution_count": 0,
      "outputs": []
    },
    {
      "cell_type": "markdown",
      "metadata": {
        "id": "b1ZXqgDreEBK",
        "colab_type": "text"
      },
      "source": [
        "#Gradient Check\n",
        "A function for checking the correctness of the gradient. (from CS231N Stanford course)"
      ]
    },
    {
      "cell_type": "code",
      "metadata": {
        "id": "kMrjmX7s1KxG",
        "colab_type": "code",
        "colab": {}
      },
      "source": [
        "from __future__ import print_function\n",
        "from random import randrange\n",
        "def grad_check_sparse(f, x, analytic_grad, num_checks):\n",
        "  \"\"\"\n",
        "  sample a few random elements and only return numerical\n",
        "  in this dimensions.\n",
        "  \"\"\"\n",
        "  h = 1e-5\n",
        "\n",
        "  print (x.shape)\n",
        "\n",
        "  for i in range(num_checks):\n",
        "    ix = tuple([randrange(m) for m in x.shape])\n",
        "    print (ix)\n",
        "    x[ix] += h # increment by h\n",
        "    fxph = f(x) # evaluate f(x + h)\n",
        "    x[ix] -= 2 * h # increment by h\n",
        "    fxmh = f(x) # evaluate f(x - h)\n",
        "    x[ix] += h # reset\n",
        "\n",
        "    grad_numerical = (fxph - fxmh) / (2 * h)\n",
        "    grad_analytic = analytic_grad[ix]\n",
        "    rel_error = abs(grad_numerical - grad_analytic) / (abs(grad_numerical) + abs(grad_analytic))\n",
        "    print ('numerical: %f analytic: %f, relative error: %e' % (grad_numerical, grad_analytic, rel_error))"
      ],
      "execution_count": 0,
      "outputs": []
    },
    {
      "cell_type": "code",
      "metadata": {
        "id": "kAa1ghbm1fcA",
        "colab_type": "code",
        "outputId": "0a5f573b-8d1a-4bb3-bc90-6a48138bddf2",
        "colab": {
          "base_uri": "https://localhost:8080/",
          "height": 34
        }
      },
      "source": [
        "import time\n",
        "W = np.random.randn(10, X_dev.shape[0]) * 0.001\n",
        "tic = time.time()\n",
        "loss_vec, grad_vect = loss_grad_softmax_vectorized(W, X_train, y_train, 0.0001)\n",
        "toc = time.time()\n",
        "print ('Vectorized loss: %f, and gradient: computed in %fs' % (loss_vec, toc - tic))"
      ],
      "execution_count": 0,
      "outputs": [
        {
          "output_type": "stream",
          "text": [
            "Vectorized loss: 5.117453, and gradient: computed in 0.958522s\n"
          ],
          "name": "stdout"
        }
      ]
    },
    {
      "cell_type": "code",
      "metadata": {
        "id": "u6BSKS8s1N-d",
        "colab_type": "code",
        "outputId": "790bbba8-7ba0-4f82-ca61-745a61263761",
        "colab": {
          "base_uri": "https://localhost:8080/",
          "height": 370
        }
      },
      "source": [
        "f = lambda w: loss_grad_softmax_vectorized(w, X_train, y_train, 0)[0]\n",
        "grad_numerical = grad_check_sparse(f, W, grad_vect, 10)"
      ],
      "execution_count": 0,
      "outputs": [
        {
          "output_type": "stream",
          "text": [
            "(10, 3073)\n",
            "(6, 488)\n",
            "numerical: 0.761277 analytic: 0.761277, relative error: 7.862624e-08\n",
            "(5, 1619)\n",
            "numerical: 2.297275 analytic: 2.297275, relative error: 1.022044e-08\n",
            "(5, 797)\n",
            "numerical: 1.844144 analytic: 1.844144, relative error: 3.331413e-08\n",
            "(1, 20)\n",
            "numerical: 2.119766 analytic: 2.119766, relative error: 9.761431e-10\n",
            "(8, 2329)\n",
            "numerical: 0.518083 analytic: 0.518083, relative error: 7.375702e-08\n",
            "(6, 2759)\n",
            "numerical: 1.364609 analytic: 1.364609, relative error: 1.645071e-08\n",
            "(9, 2996)\n",
            "numerical: -1.964019 analytic: -1.964019, relative error: 6.820048e-10\n",
            "(5, 2283)\n",
            "numerical: 1.443787 analytic: 1.443787, relative error: 1.780552e-08\n",
            "(5, 672)\n",
            "numerical: 8.458393 analytic: 8.458393, relative error: 9.958499e-10\n",
            "(4, 767)\n",
            "numerical: 4.480525 analytic: 4.480525, relative error: 1.432928e-08\n"
          ],
          "name": "stdout"
        }
      ]
    },
    {
      "cell_type": "markdown",
      "metadata": {
        "id": "5XIaS2fkeZRK",
        "colab_type": "text"
      },
      "source": [
        "# Training"
      ]
    },
    {
      "cell_type": "code",
      "metadata": {
        "id": "AdRaowPf1Yp0",
        "colab_type": "code",
        "colab": {}
      },
      "source": [
        "    def train(X, y, W, method='sgd', batch_size=200, learning_rate=1e-4,\n",
        "              reg = 1e3, num_iters=1000, verbose=False, vectorized=True):\n",
        "        \"\"\"\n",
        "        Train linear classifer using batch gradient descent or stochastic gradient descent\n",
        "        Parameters\n",
        "        ----------\n",
        "        X: (D x N) array of training data, each column is a training sample with D-dimension.\n",
        "        y: (N, ) 1-dimension array of target data with length N.\n",
        "        method: (string) determine whether using 'bgd' or 'sgd'.\n",
        "        batch_size: (integer) number of training examples to use at each step.\n",
        "        learning_rate: (float) learning rate for optimization.\n",
        "        reg: (float) regularization strength for optimization.\n",
        "        num_iters: (integer) number of steps to take when optimization.\n",
        "        verbose: (boolean) if True, print out the progress (loss) when optimization.\n",
        "        Returns\n",
        "        -------\n",
        "        losses_history: (list) of losses at each training iteration\n",
        "        \"\"\"\n",
        "\n",
        "        dim, num_train = X.shape\n",
        "        num_classes = np.max(y) + 1 # assume y takes values 0...K-1 where K is number of classes\n",
        "\n",
        "        if W is None:\n",
        "            # initialize the weights with small values\n",
        "            if num_classes == 2: # just need weights for one class\n",
        "                W = np.random.randn(1, dim) * 0.001\n",
        "            else: # weigths for each class\n",
        "                W = np.random.randn(num_classes, dim) * 0.001\n",
        "\n",
        "        losses_history = []\n",
        "\n",
        "        for i in range(num_iters):\n",
        "            if method == 'bgd':\n",
        "                loss, grad = loss_grad(X, y, reg, vectorized)\n",
        "            else:\n",
        "                # randomly choose a min-batch of samples\n",
        "                idxs = np.random.choice(num_train, batch_size, replace=False)\n",
        "                loss, grad = loss_grad_softmax_vectorized(W, X[:, idxs], y[:,idxs], reg) # grad => [K x D]\n",
        "            losses_history.append(loss)\n",
        "\n",
        "            # update weights\n",
        "            W -= learning_rate * grad # [K x D]\n",
        "            # print self.W\n",
        "            # print 'dsfad', grad.shape\n",
        "            if verbose and (i % 100 == 0):\n",
        "                print ('iteration %d/%d: loss %f' % (i, num_iters, loss))\n",
        "\n",
        "        return losses_history,W"
      ],
      "execution_count": 0,
      "outputs": []
    },
    {
      "cell_type": "code",
      "metadata": {
        "id": "vEmpW93h3c3z",
        "colab_type": "code",
        "colab": {}
      },
      "source": [
        "    def predict(X,W):\n",
        "        \"\"\"\n",
        "        Predict value of y using trained weights\n",
        "        Parameters\n",
        "        ----------\n",
        "        X: (D x N) array of data, each column is a sample with D-dimension.\n",
        "        Returns\n",
        "        -------\n",
        "        pred_ys: (N, ) 1-dimension array of y for N sampels\n",
        "        h_x_mat: Normalized scores\n",
        "        \"\"\"\n",
        "        pred_ys = np.zeros(X.shape[1])\n",
        "        f_x_mat = W.dot(X)\n",
        "        pred_ys = np.argmax(f_x_mat, axis=0)\n",
        "        # normalized score\n",
        "        h_x_mat = 1.0 / (1.0 + np.exp(-f_x_mat)) # [1, N]\n",
        "        h_x_mat = h_x_mat.squeeze()\n",
        "        return pred_ys, h_x_mat"
      ],
      "execution_count": 0,
      "outputs": []
    },
    {
      "cell_type": "code",
      "metadata": {
        "id": "lsvNnzFN3G0r",
        "colab_type": "code",
        "outputId": "c77ffc25-c5b9-4c2c-80f3-8f1967a4e42b",
        "colab": {
          "base_uri": "https://localhost:8080/",
          "height": 235
        }
      },
      "source": [
        "W = None\n",
        "losses_sgd,W = train(X_train, y_train, W, method='sgd', batch_size=300, learning_rate=1e-7,\n",
        "              reg = 3e5, num_iters=1000, verbose=True, vectorized=True)\n",
        "toc = time.time()\n",
        "print ('Traning time for SGD with vectorized version is %f \\n' % (toc - tic))\n",
        "\n",
        "\n",
        "y_val_pred_sgd = predict(X_val,W)[0]\n",
        "print ('Validation accuracy: %f' % (np.mean(y_val == y_val_pred_sgd)))"
      ],
      "execution_count": 0,
      "outputs": [
        {
          "output_type": "stream",
          "text": [
            "iteration 0/1000: loss 4596.487737\n",
            "iteration 100/1000: loss 12.563413\n",
            "iteration 200/1000: loss 2.218601\n",
            "iteration 300/1000: loss 2.205430\n",
            "iteration 400/1000: loss 2.261921\n",
            "iteration 500/1000: loss 2.209184\n",
            "iteration 600/1000: loss 2.218080\n",
            "iteration 700/1000: loss 2.213451\n",
            "iteration 800/1000: loss 2.218881\n",
            "iteration 900/1000: loss 2.226329\n",
            "Traning time for SGD with vectorized version is 2165.487756 \n",
            "\n",
            "Validation accuracy: 0.291000\n"
          ],
          "name": "stdout"
        }
      ]
    },
    {
      "cell_type": "markdown",
      "metadata": {
        "id": "1QVx9S37fcgN",
        "colab_type": "text"
      },
      "source": [
        "# Visualtization"
      ]
    },
    {
      "cell_type": "code",
      "metadata": {
        "id": "PUusopy239Qf",
        "colab_type": "code",
        "outputId": "91f53746-0926-41ae-c2c1-fbbc20eb2b9e",
        "colab": {
          "base_uri": "https://localhost:8080/",
          "height": 397
        }
      },
      "source": [
        "# Visualize the learned weights for each class\n",
        "w = W[:,:-1] # strip out the bias\n",
        "print(w.shape)\n",
        "w = w.reshape(10, 32, 32, 3)\n",
        "\n",
        "w_min, w_max = np.min(w), np.max(w)\n",
        "\n",
        "classes = ['plane', 'car', 'bird', 'cat', 'deer', 'dog', 'frog', 'horse', 'ship', 'truck']\n",
        "for i in range(10):\n",
        "    plt.subplot(2, 5, i + 1)\n",
        "    \n",
        "    # Rescale the weights to be between 0 and 255\n",
        "    wimg = 255.0 * (w[i, :, :, :].squeeze() - w_min) / (w_max - w_min)\n",
        "    plt.imshow(wimg.astype('uint8'))\n",
        "    plt.axis('off')\n",
        "    plt.title(classes[i])"
      ],
      "execution_count": 0,
      "outputs": [
        {
          "output_type": "stream",
          "text": [
            "(10, 3072)\n"
          ],
          "name": "stdout"
        },
        {
          "output_type": "display_data",
          "data": {
            "image/png": "[encoded data removed]",
            "text/plain": [
              "<Figure size 720x576 with 10 Axes>"
            ]
          },
          "metadata": {
            "tags": []
          }
        }
      ]
    },
    {
      "cell_type": "code",
      "metadata": {
        "id": "HUDmhUIIEtN-",
        "colab_type": "code",
        "colab": {}
      },
      "source": [
        ""
      ],
      "execution_count": 0,
      "outputs": []
    }
  ]
}